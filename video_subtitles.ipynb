{
  "nbformat": 4,
  "nbformat_minor": 0,
  "metadata": {
    "colab": {
      "provenance": [],
      "gpuType": "T4",
      "collapsed_sections": [
        "CeLb4d5RzCCJ",
        "ZmDx2Ol55ine"
      ],
      "history_visible": true,
      "authorship_tag": "ABX9TyMP9HV5HwS4Gu84/W3I8YW9",
      "include_colab_link": true
    },
    "kernelspec": {
      "name": "python3",
      "display_name": "Python 3"
    },
    "language_info": {
      "name": "python"
    },
    "accelerator": "GPU"
  },
  "cells": [
    {
      "cell_type": "markdown",
      "metadata": {
        "id": "view-in-github",
        "colab_type": "text"
      },
      "source": [
        "<a href=\"https://colab.research.google.com/github/Eladji/Video_en_subtitles/blob/main/video_subtitles.ipynb\" target=\"_parent\"><img src=\"https://colab.research.google.com/assets/colab-badge.svg\" alt=\"Open In Colab\"/></a>"
      ]
    },
    {
      "cell_type": "markdown",
      "source": [
        "# 1. run this first part"
      ],
      "metadata": {
        "id": "CeLb4d5RzCCJ"
      }
    },
    {
      "cell_type": "code",
      "execution_count": null,
      "metadata": {
        "colab": {
          "base_uri": "https://localhost:8080/"
        },
        "collapsed": true,
        "id": "yF9fpx9hpOnk",
        "outputId": "3b4fbe51-eaeb-4044-9a37-5c1ac94849a1"
      },
      "outputs": [
        {
          "output_type": "stream",
          "name": "stdout",
          "text": [
            "Collecting git+https://github.com/openai/whisper.git\n",
            "  Cloning https://github.com/openai/whisper.git to /tmp/pip-req-build-hdyyklrf\n",
            "  Running command git clone --filter=blob:none --quiet https://github.com/openai/whisper.git /tmp/pip-req-build-hdyyklrf\n",
            "  Resolved https://github.com/openai/whisper.git to commit ba3f3cd54b0e5b8ce1ab3de13e32122d0d5f98ab\n",
            "  Installing build dependencies ... \u001b[?25l\u001b[?25hdone\n",
            "  Getting requirements to build wheel ... \u001b[?25l\u001b[?25hdone\n",
            "  Preparing metadata (pyproject.toml) ... \u001b[?25l\u001b[?25hdone\n",
            "Requirement already satisfied: yt-dlp in /usr/local/lib/python3.10/dist-packages (2024.5.27)\n",
            "Requirement already satisfied: setuptools-rust in /usr/local/lib/python3.10/dist-packages (1.9.0)\n",
            "Requirement already satisfied: requests==2.31.0 in /usr/local/lib/python3.10/dist-packages (2.31.0)\n",
            "Requirement already satisfied: deep-translator in /usr/local/lib/python3.10/dist-packages (1.11.4)\n",
            "Requirement already satisfied: googletrans==4.0.0-rc1 in /usr/local/lib/python3.10/dist-packages (4.0.0rc1)\n",
            "Requirement already satisfied: pillow in /usr/local/lib/python3.10/dist-packages (9.4.0)\n",
            "Requirement already satisfied: matplotlib in /usr/local/lib/python3.10/dist-packages (3.7.1)\n",
            "Requirement already satisfied: charset-normalizer<4,>=2 in /usr/local/lib/python3.10/dist-packages (from requests==2.31.0) (3.3.2)\n",
            "Requirement already satisfied: idna<4,>=2.5 in /usr/local/lib/python3.10/dist-packages (from requests==2.31.0) (2.10)\n",
            "Requirement already satisfied: urllib3<3,>=1.21.1 in /usr/local/lib/python3.10/dist-packages (from requests==2.31.0) (2.0.7)\n",
            "Requirement already satisfied: certifi>=2017.4.17 in /usr/local/lib/python3.10/dist-packages (from requests==2.31.0) (2024.7.4)\n",
            "Requirement already satisfied: httpx==0.13.3 in /usr/local/lib/python3.10/dist-packages (from googletrans==4.0.0-rc1) (0.13.3)\n",
            "Requirement already satisfied: hstspreload in /usr/local/lib/python3.10/dist-packages (from httpx==0.13.3->googletrans==4.0.0-rc1) (2024.7.1)\n",
            "Requirement already satisfied: sniffio in /usr/local/lib/python3.10/dist-packages (from httpx==0.13.3->googletrans==4.0.0-rc1) (1.3.1)\n",
            "Requirement already satisfied: chardet==3.* in /usr/local/lib/python3.10/dist-packages (from httpx==0.13.3->googletrans==4.0.0-rc1) (3.0.4)\n",
            "Requirement already satisfied: rfc3986<2,>=1.3 in /usr/local/lib/python3.10/dist-packages (from httpx==0.13.3->googletrans==4.0.0-rc1) (1.5.0)\n",
            "Requirement already satisfied: httpcore==0.9.* in /usr/local/lib/python3.10/dist-packages (from httpx==0.13.3->googletrans==4.0.0-rc1) (0.9.1)\n",
            "Requirement already satisfied: h11<0.10,>=0.8 in /usr/local/lib/python3.10/dist-packages (from httpcore==0.9.*->httpx==0.13.3->googletrans==4.0.0-rc1) (0.9.0)\n",
            "Requirement already satisfied: h2==3.* in /usr/local/lib/python3.10/dist-packages (from httpcore==0.9.*->httpx==0.13.3->googletrans==4.0.0-rc1) (3.2.0)\n",
            "Requirement already satisfied: hyperframe<6,>=5.2.0 in /usr/local/lib/python3.10/dist-packages (from h2==3.*->httpcore==0.9.*->httpx==0.13.3->googletrans==4.0.0-rc1) (5.2.0)\n",
            "Requirement already satisfied: hpack<4,>=3.0 in /usr/local/lib/python3.10/dist-packages (from h2==3.*->httpcore==0.9.*->httpx==0.13.3->googletrans==4.0.0-rc1) (3.0.0)\n",
            "Requirement already satisfied: numba in /usr/local/lib/python3.10/dist-packages (from openai-whisper==20231117) (0.58.1)\n",
            "Requirement already satisfied: numpy in /usr/local/lib/python3.10/dist-packages (from openai-whisper==20231117) (1.25.2)\n",
            "Requirement already satisfied: torch in /usr/local/lib/python3.10/dist-packages (from openai-whisper==20231117) (2.3.1+cu121)\n",
            "Requirement already satisfied: tqdm in /usr/local/lib/python3.10/dist-packages (from openai-whisper==20231117) (4.66.4)\n",
            "Requirement already satisfied: more-itertools in /usr/local/lib/python3.10/dist-packages (from openai-whisper==20231117) (10.1.0)\n",
            "Requirement already satisfied: tiktoken in /usr/local/lib/python3.10/dist-packages (from openai-whisper==20231117) (0.7.0)\n",
            "Requirement already satisfied: triton<3,>=2.0.0 in /usr/local/lib/python3.10/dist-packages (from openai-whisper==20231117) (2.3.1)\n",
            "Requirement already satisfied: brotli in /usr/local/lib/python3.10/dist-packages (from yt-dlp) (1.1.0)\n",
            "Requirement already satisfied: mutagen in /usr/local/lib/python3.10/dist-packages (from yt-dlp) (1.47.0)\n",
            "Requirement already satisfied: pycryptodomex in /usr/local/lib/python3.10/dist-packages (from yt-dlp) (3.20.0)\n",
            "Requirement already satisfied: websockets>=12.0 in /usr/local/lib/python3.10/dist-packages (from yt-dlp) (12.0)\n",
            "Requirement already satisfied: setuptools>=62.4 in /usr/local/lib/python3.10/dist-packages (from setuptools-rust) (71.0.4)\n",
            "Requirement already satisfied: semantic-version<3,>=2.8.2 in /usr/local/lib/python3.10/dist-packages (from setuptools-rust) (2.10.0)\n",
            "Requirement already satisfied: tomli>=1.2.1 in /usr/local/lib/python3.10/dist-packages (from setuptools-rust) (2.0.1)\n",
            "Requirement already satisfied: beautifulsoup4<5.0.0,>=4.9.1 in /usr/local/lib/python3.10/dist-packages (from deep-translator) (4.12.3)\n",
            "Requirement already satisfied: contourpy>=1.0.1 in /usr/local/lib/python3.10/dist-packages (from matplotlib) (1.2.1)\n",
            "Requirement already satisfied: cycler>=0.10 in /usr/local/lib/python3.10/dist-packages (from matplotlib) (0.12.1)\n",
            "Requirement already satisfied: fonttools>=4.22.0 in /usr/local/lib/python3.10/dist-packages (from matplotlib) (4.53.1)\n",
            "Requirement already satisfied: kiwisolver>=1.0.1 in /usr/local/lib/python3.10/dist-packages (from matplotlib) (1.4.5)\n",
            "Requirement already satisfied: packaging>=20.0 in /usr/local/lib/python3.10/dist-packages (from matplotlib) (24.1)\n",
            "Requirement already satisfied: pyparsing>=2.3.1 in /usr/local/lib/python3.10/dist-packages (from matplotlib) (3.1.2)\n",
            "Requirement already satisfied: python-dateutil>=2.7 in /usr/local/lib/python3.10/dist-packages (from matplotlib) (2.8.2)\n",
            "Requirement already satisfied: soupsieve>1.2 in /usr/local/lib/python3.10/dist-packages (from beautifulsoup4<5.0.0,>=4.9.1->deep-translator) (2.5)\n",
            "Requirement already satisfied: six>=1.5 in /usr/local/lib/python3.10/dist-packages (from python-dateutil>=2.7->matplotlib) (1.16.0)\n",
            "Requirement already satisfied: filelock in /usr/local/lib/python3.10/dist-packages (from triton<3,>=2.0.0->openai-whisper==20231117) (3.15.4)\n",
            "Requirement already satisfied: llvmlite<0.42,>=0.41.0dev0 in /usr/local/lib/python3.10/dist-packages (from numba->openai-whisper==20231117) (0.41.1)\n",
            "Requirement already satisfied: regex>=2022.1.18 in /usr/local/lib/python3.10/dist-packages (from tiktoken->openai-whisper==20231117) (2024.5.15)\n",
            "Requirement already satisfied: typing-extensions>=4.8.0 in /usr/local/lib/python3.10/dist-packages (from torch->openai-whisper==20231117) (4.12.2)\n",
            "Requirement already satisfied: sympy in /usr/local/lib/python3.10/dist-packages (from torch->openai-whisper==20231117) (1.13.1)\n",
            "Requirement already satisfied: networkx in /usr/local/lib/python3.10/dist-packages (from torch->openai-whisper==20231117) (3.3)\n",
            "Requirement already satisfied: jinja2 in /usr/local/lib/python3.10/dist-packages (from torch->openai-whisper==20231117) (3.1.4)\n",
            "Requirement already satisfied: fsspec in /usr/local/lib/python3.10/dist-packages (from torch->openai-whisper==20231117) (2023.6.0)\n",
            "Requirement already satisfied: nvidia-cuda-nvrtc-cu12==12.1.105 in /usr/local/lib/python3.10/dist-packages (from torch->openai-whisper==20231117) (12.1.105)\n",
            "Requirement already satisfied: nvidia-cuda-runtime-cu12==12.1.105 in /usr/local/lib/python3.10/dist-packages (from torch->openai-whisper==20231117) (12.1.105)\n",
            "Requirement already satisfied: nvidia-cuda-cupti-cu12==12.1.105 in /usr/local/lib/python3.10/dist-packages (from torch->openai-whisper==20231117) (12.1.105)\n",
            "Requirement already satisfied: nvidia-cudnn-cu12==8.9.2.26 in /usr/local/lib/python3.10/dist-packages (from torch->openai-whisper==20231117) (8.9.2.26)\n",
            "Requirement already satisfied: nvidia-cublas-cu12==12.1.3.1 in /usr/local/lib/python3.10/dist-packages (from torch->openai-whisper==20231117) (12.1.3.1)\n",
            "Requirement already satisfied: nvidia-cufft-cu12==11.0.2.54 in /usr/local/lib/python3.10/dist-packages (from torch->openai-whisper==20231117) (11.0.2.54)\n",
            "Requirement already satisfied: nvidia-curand-cu12==10.3.2.106 in /usr/local/lib/python3.10/dist-packages (from torch->openai-whisper==20231117) (10.3.2.106)\n",
            "Requirement already satisfied: nvidia-cusolver-cu12==11.4.5.107 in /usr/local/lib/python3.10/dist-packages (from torch->openai-whisper==20231117) (11.4.5.107)\n",
            "Requirement already satisfied: nvidia-cusparse-cu12==12.1.0.106 in /usr/local/lib/python3.10/dist-packages (from torch->openai-whisper==20231117) (12.1.0.106)\n",
            "Requirement already satisfied: nvidia-nccl-cu12==2.20.5 in /usr/local/lib/python3.10/dist-packages (from torch->openai-whisper==20231117) (2.20.5)\n",
            "Requirement already satisfied: nvidia-nvtx-cu12==12.1.105 in /usr/local/lib/python3.10/dist-packages (from torch->openai-whisper==20231117) (12.1.105)\n",
            "Requirement already satisfied: nvidia-nvjitlink-cu12 in /usr/local/lib/python3.10/dist-packages (from nvidia-cusolver-cu12==11.4.5.107->torch->openai-whisper==20231117) (12.5.82)\n",
            "Requirement already satisfied: MarkupSafe>=2.0 in /usr/local/lib/python3.10/dist-packages (from jinja2->torch->openai-whisper==20231117) (2.1.5)\n",
            "Requirement already satisfied: mpmath<1.4,>=1.1.0 in /usr/local/lib/python3.10/dist-packages (from sympy->torch->openai-whisper==20231117) (1.3.0)\n",
            "Reading package lists... Done\n",
            "Building dependency tree... Done\n",
            "Reading state information... Done\n",
            "ffmpeg is already the newest version (7:4.4.2-0ubuntu0.22.04.1).\n",
            "0 upgraded, 0 newly installed, 0 to remove and 45 not upgraded.\n"
          ]
        }
      ],
      "source": [
        "!pip install git+https://github.com/openai/whisper.git yt-dlp setuptools-rust requests==2.31.0 deep-translator googletrans==4.0.0-rc1 pillow matplotlib\n",
        "!apt install ffmpeg"
      ]
    },
    {
      "cell_type": "code",
      "source": [],
      "metadata": {
        "id": "bE6b7Hx9ChZV"
      },
      "execution_count": null,
      "outputs": []
    },
    {
      "cell_type": "markdown",
      "source": [
        "# 2. don't forget to go to the ram Disque part\n",
        "then edit type of exucution and select T4 GPU"
      ],
      "metadata": {
        "id": "upicSgZ333h-"
      }
    },
    {
      "cell_type": "markdown",
      "source": [
        "# 3. run this"
      ],
      "metadata": {
        "id": "ZmDx2Ol55ine"
      }
    },
    {
      "cell_type": "code",
      "source": [
        "%%writefile subtitles.py\n",
        "from IPython.display import display, HTML\n",
        "import ipywidgets as widgets\n",
        "import whisper\n",
        "import yt_dlp\n",
        "import re\n",
        "from googletrans import Translator\n",
        "import subprocess\n",
        "import sys\n",
        "import matplotlib.pyplot as plt\n",
        "import requests\n",
        "from PIL import Image\n",
        "from io import BytesIO\n",
        "import os\n",
        "\n",
        "def download_video_as_mp3(url, output_path):\n",
        "    ydl_opts = {\n",
        "        'format': 'bestaudio/best',\n",
        "        'outtmpl': output_path,\n",
        "        'postprocessors': [{\n",
        "            'key': 'FFmpegExtractAudio',\n",
        "            'preferredcodec': 'mp3',\n",
        "            'preferredquality': '192',\n",
        "        }],\n",
        "        'postprocessor_args': [\n",
        "            '-ar', '44100'\n",
        "        ],\n",
        "        'prefer_ffmpeg': True,\n",
        "        'keepvideo': False,\n",
        "    }\n",
        "\n",
        "    try:\n",
        "        with yt_dlp.YoutubeDL(ydl_opts) as ydl:\n",
        "            info = ydl.extract_info(url, download=True)\n",
        "            downloaded_file_path = ydl.prepare_filename(info).replace(info['ext'], 'mp3')\n",
        "        return downloaded_file_path\n",
        "    except yt_dlp.utils.DownloadError as e:\n",
        "        print(f\"Error downloading video: {e}\")\n",
        "        return None\n",
        "\n",
        "def get_video_title(video_url):\n",
        "    ydl_opts = {}\n",
        "\n",
        "    try:\n",
        "        with yt_dlp.YoutubeDL(ydl_opts) as ydl:\n",
        "            info_dict = ydl.extract_info(video_url, download=False)\n",
        "            video_title = info_dict.get('title', 'Unknown Title')\n",
        "            return video_title\n",
        "    except yt_dlp.utils.DownloadError as e:\n",
        "        print(f\"Error downloading video: {e}\")\n",
        "        return None\n",
        "\n",
        "def get_thumbnail(url):\n",
        "    ydl_opts = {\n",
        "        'format': 'best',\n",
        "        'quiet': True\n",
        "    }\n",
        "\n",
        "    try:\n",
        "        with yt_dlp.YoutubeDL(ydl_opts) as ydl:\n",
        "            info = ydl.extract_info(url, download=False)\n",
        "            thumbnail_url = info.get('thumbnail')\n",
        "        return thumbnail_url\n",
        "    except yt_dlp.utils.ExtractorError as e:\n",
        "        print(f\"Error extracting video info: {e}\")\n",
        "        return None\n",
        "\n",
        "def transcribe_audio(audio_path):\n",
        "    model = whisper.load_model(\"medium\")\n",
        "    result = model.transcribe(audio_path, word_timestamps=True)\n",
        "    segments = result['segments']\n",
        "\n",
        "    phrases_with_timestamps = []\n",
        "    for segment in segments:\n",
        "        start_time = segment['start']\n",
        "        end_time = segment['end']\n",
        "        text = segment['text']\n",
        "        phrases = re.split(r'(?<=[.!?]) +', text.strip())\n",
        "        for phrase in phrases:\n",
        "            phrases_with_timestamps.append((phrase, start_time, end_time))\n",
        "\n",
        "    return phrases_with_timestamps\n",
        "\n",
        "def translate_text(text, target_language='en'):\n",
        "    translator = Translator()\n",
        "    if not text:\n",
        "        return \"\"\n",
        "    try:\n",
        "        translated_text = translator.translate(text, dest=target_language).text\n",
        "    except Exception as e:\n",
        "        print(f\"Error during translation: {e}\")\n",
        "        return None\n",
        "    return translated_text\n",
        "\n",
        "def write_srt_file(filename, phrases_with_timestamps, target_language='en'):\n",
        "    with open(filename, 'w') as file:\n",
        "        index = 1\n",
        "        for phrase, start, end in phrases_with_timestamps:\n",
        "            translated_phrase = translate_text(phrase, target_language)\n",
        "            if translated_phrase:\n",
        "                start_time = format_timestamp(start)\n",
        "                end_time = format_timestamp(end)\n",
        "                file.write(f\"{index}\\n\")\n",
        "                file.write(f\"{start_time} --> {end_time}\\n\")\n",
        "                file.write(f\"{translated_phrase}\\n\\n\")\n",
        "                index += 1\n",
        "\n",
        "def show_image_from_url(url):\n",
        "    try:\n",
        "        response = requests.get(url)\n",
        "        response.raise_for_status()\n",
        "        img = Image.open(BytesIO(response.content))\n",
        "\n",
        "        # Display the image using matplotlib\n",
        "        plt.imshow(img)\n",
        "        plt.axis('off')\n",
        "        plt.show()\n",
        "    except requests.exceptions.RequestException as e:\n",
        "        print(f\"Error fetching the image: {e}\")\n",
        "\n",
        "def format_timestamp(seconds):\n",
        "    hours, remainder = divmod(int(seconds), 3600)\n",
        "    minutes, seconds = divmod(remainder, 60)\n",
        "    milliseconds = int((seconds - int(seconds)) * 1000)\n",
        "    return f\"{hours:02}:{minutes:02}:{seconds:02},{milliseconds:03}\"\n",
        "\n",
        "def download_video_with_subtitles(video_url, subtitle_file, output_filename):\n",
        "    ydl_opts = {\n",
        "        'format': 'bestvideo[ext=mp4]+bestaudio[ext=m4a]/mp4',\n",
        "        'outtmpl': 'downloaded_video.%(ext)s',\n",
        "        'merge_output_format': 'mp4',\n",
        "    }\n",
        "    try:\n",
        "        with yt_dlp.YoutubeDL(ydl_opts) as ydl:\n",
        "            ydl.download([video_url])\n",
        "            info_dict = ydl.extract_info(video_url, download=True)\n",
        "            video_title = info_dict.get('title', None)\n",
        "            video_ext = info_dict.get('ext', 'mp4')\n",
        "            downloaded_video = f\"downloaded_video.{video_ext}\"\n",
        "\n",
        "    except yt_dlp.utils.DownloadError as e:\n",
        "        print(f\"Error downloading video: {e}\")\n",
        "        return\n",
        "\n",
        "    ffmpeg_command = [\n",
        "        'ffmpeg',\n",
        "        '-i', downloaded_video,\n",
        "        '-vf', f\"subtitles={subtitle_file}\",\n",
        "        output_filename\n",
        "    ]\n",
        "    try:\n",
        "        subprocess.run(ffmpeg_command, check=True)\n",
        "        print(f\"Subtitles successfully embedded into {output_filename}\")\n",
        "    except subprocess.CalledProcessError as e:\n",
        "        print(f\"An error occurred during embedding subtitles: {e}\")\n",
        "\n",
        "    if os.path.exists(downloaded_video):\n",
        "        os.remove(downloaded_video)\n",
        "\n",
        "def main(url):\n",
        "    url_content = requests.get(url)\n",
        "    if url_content:\n",
        "        thumbnail_url = get_thumbnail(url)\n",
        "        if thumbnail_url:\n",
        "            show_image_from_url(thumbnail_url)\n",
        "            # Proceed to display input prompt\n",
        "            display_input_prompt(url)\n",
        "        else:\n",
        "            print(\"No thumbnail available.\")\n",
        "            sys.exit()\n",
        "    else:\n",
        "        print(\"URL is either not valid or empty\")\n",
        "        sys.exit()\n",
        "\n",
        "def display_input_prompt(url):\n",
        "    # Display input prompt\n",
        "    def on_button_clicked(b):\n",
        "        confirm = confirm_input.value.strip().lower()\n",
        "        if confirm == \"y\":\n",
        "            start(url)\n",
        "        elif confirm == \"n\":\n",
        "            print(\"Please check the URL\")\n",
        "            sys.exit()\n",
        "        else:\n",
        "            print(\"Please enter either yes (y) or no (n)\")\n",
        "\n",
        "    confirm_input = widgets.Text(\n",
        "        description='Confirm:',\n",
        "        placeholder='Enter y or n'\n",
        "    )\n",
        "\n",
        "    confirm_button = widgets.Button(description=\"Submit\")\n",
        "    confirm_button.on_click(on_button_clicked)\n",
        "\n",
        "    # Display the HTML and input widgets\n",
        "    display(HTML(\"<h3>Is the thumbnail matching?</h3>\"))\n",
        "    display(confirm_input, confirm_button)\n",
        "\n",
        "def start(video_url):\n",
        "    output_path = 'downloads/%(title)s.%(ext)s'\n",
        "    mp3_path = download_video_as_mp3(video_url, output_path)\n",
        "    if mp3_path:\n",
        "        phrases_with_timestamps = transcribe_audio(mp3_path)\n",
        "        srt_filename = 'output.srt'\n",
        "        write_srt_file(srt_filename, phrases_with_timestamps, target_language='en')\n",
        "        for phrase, start, end in phrases_with_timestamps:\n",
        "            translated = translate_text(phrase, 'en')\n",
        "            if translated:\n",
        "                print(f\"Original: {phrase} [Start: {start:.2f}s, End: {end:.2f}s]\")\n",
        "                print(f\"Translated: {translated}\\n\")\n",
        "        video_title = get_video_title(video_url)\n",
        "        output_filename = f\"{video_title}.mp4\"\n",
        "        download_video_with_subtitles(video_url, srt_filename, output_filename)\n",
        "\n",
        "if __name__ == \"__main__\":\n",
        "\n",
        "    main(url)\n"
      ],
      "metadata": {
        "colab": {
          "base_uri": "https://localhost:8080/"
        },
        "id": "UcjKF8jMDN8x",
        "outputId": "1f1e9f9f-6899-4cdf-dca1-cb277512d2fe",
        "collapsed": true
      },
      "execution_count": null,
      "outputs": [
        {
          "output_type": "stream",
          "name": "stdout",
          "text": [
            "Overwriting subtitles.py\n"
          ]
        }
      ]
    },
    {
      "cell_type": "markdown",
      "source": [
        "# 4. here put the link of the youtube video\n"
      ],
      "metadata": {
        "id": "kRaqb0R8AeJf"
      }
    },
    {
      "cell_type": "code",
      "source": [
        "url = \"put the url here\"\n",
        "execfile('subtitles.py')\n",
        "main(url)"
      ],
      "metadata": {
        "id": "S5XA7qslAn2F"
      },
      "execution_count": null,
      "outputs": []
    },
    {
      "cell_type": "markdown",
      "source": [
        "#5. now go in the left side bar and you should have in the folder icon you video with en subtitles  have fun"
      ],
      "metadata": {
        "id": "p1bE_BD6CQgp"
      }
    }
  ]
}